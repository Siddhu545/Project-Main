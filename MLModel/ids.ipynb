{
 "cells": [
  {
   "cell_type": "code",
   "execution_count": 2,
   "metadata": {},
   "outputs": [
    {
     "name": "stdout",
     "output_type": "stream",
     "text": [
      "   totalSourceBytes  totalDestinationBytes  totalDestinationPackets  \\\n",
      "0           2633658                      0                        0   \n",
      "1           2633658                      0                        0   \n",
      "2                64                    128                        2   \n",
      "3                64                    128                        2   \n",
      "4               128                     64                        1   \n",
      "\n",
      "   totalSourcePackets  sourceTCPFlagsDescription  \\\n",
      "0               28971                         12   \n",
      "1               28971                         12   \n",
      "2                   1                          1   \n",
      "3                   1                          1   \n",
      "4                   2                          1   \n",
      "\n",
      "   destinationTCPFlagsDescription      source  protocolName  sourcePort  \\\n",
      "0                              10  3232236922             4        5353   \n",
      "1                              10  3232236922             4        5353   \n",
      "2                              12  3232236145             3        4191   \n",
      "3                              12  3232236145             3        4191   \n",
      "4                               1  3232236145             3        4192   \n",
      "\n",
      "   destination  destinationPort  Label  duration  \n",
      "0   3758096635             5353      0   34020.0  \n",
      "1   3758096635             5353      0   34020.0  \n",
      "2   3232236922               80      0     120.0  \n",
      "3   3232236922               80      0     120.0  \n",
      "4   3488715856               80      0     120.0  \n"
     ]
    }
   ],
   "source": [
    "import pandas as pd\n",
    "import ipaddress\n",
    "from sklearn.preprocessing import LabelEncoder\n",
    "\n",
    "\n",
    "df = pd.read_csv('../iscxids2012-master/iscxids2012-master/data/CSV/TestbedSunJun13Flows.csv')\n",
    "\n",
    "\n",
    "def ip_to_int(ip_str):\n",
    "    return int(ipaddress.ip_address(ip_str))\n",
    "\n",
    "\n",
    "cols_to_drop = ['generated', 'appName', 'direction', 'destinationPayloadAsUTF',\n",
    "                'destinationPayloadAsBase64', 'sourcePayloadAsUTF', 'sourcePayloadAsBase64']\n",
    "df.drop(cols_to_drop, axis=1, inplace=True)\n",
    "\n",
    "\n",
    "df['startDateTime'] = pd.to_datetime(df['startDateTime'], format='%m/%d/%Y %H:%M')\n",
    "df['stopDateTime'] = pd.to_datetime(df['stopDateTime'], format='%m/%d/%Y %H:%M')\n",
    "\n",
    "\n",
    "df['duration'] = (df['stopDateTime'] - df['startDateTime']).dt.total_seconds()\n",
    "df.drop(['startDateTime', 'stopDateTime'], axis=1, inplace=True)\n",
    "\n",
    "\n",
    "df['sourceTCPFlagsDescription'].fillna('None', inplace=True)\n",
    "df['destinationTCPFlagsDescription'].fillna('None', inplace=True)\n",
    "\n",
    "\n",
    "df['source'] = df['source'].apply(ip_to_int)\n",
    "df['destination'] = df['destination'].apply(ip_to_int)\n",
    "\n",
    "\n",
    "encoder = LabelEncoder()\n",
    "df['sourceTCPFlagsDescription'] = encoder.fit_transform(df['sourceTCPFlagsDescription'])\n",
    "df['destinationTCPFlagsDescription'] = encoder.fit_transform(df['destinationTCPFlagsDescription'])\n",
    "df['protocolName'] = encoder.fit_transform(df['protocolName'])\n",
    "\n",
    "\n",
    "df['Label'] = df['Label'].apply(lambda x: 1 if x == 'Attack' else 0)\n",
    "\n",
    "\n",
    "print(df.head())\n"
   ]
  },
  {
   "cell_type": "code",
   "execution_count": null,
   "metadata": {},
   "outputs": [],
   "source": []
  },
  {
   "cell_type": "code",
   "execution_count": 3,
   "metadata": {},
   "outputs": [],
   "source": [
    "from sklearn.model_selection import StratifiedShuffleSplit\n",
    "\n",
    "\n",
    "X = df.drop(['Label'], axis=1)\n",
    "y = df['Label']\n",
    "\n",
    "\n",
    "split = StratifiedShuffleSplit(n_splits=1, test_size=0.3, random_state=42)\n",
    "\n",
    "for train_index, test_index in split.split(X, y):\n",
    "    X_train, X_test = X.iloc[train_index], X.iloc[test_index]\n",
    "    y_train, y_test = y.iloc[train_index], y.iloc[test_index]\n"
   ]
  },
  {
   "cell_type": "code",
   "execution_count": 4,
   "metadata": {},
   "outputs": [
    {
     "data": {
      "text/html": [
       "<style>#sk-container-id-1 {color: black;background-color: white;}#sk-container-id-1 pre{padding: 0;}#sk-container-id-1 div.sk-toggleable {background-color: white;}#sk-container-id-1 label.sk-toggleable__label {cursor: pointer;display: block;width: 100%;margin-bottom: 0;padding: 0.3em;box-sizing: border-box;text-align: center;}#sk-container-id-1 label.sk-toggleable__label-arrow:before {content: \"▸\";float: left;margin-right: 0.25em;color: #696969;}#sk-container-id-1 label.sk-toggleable__label-arrow:hover:before {color: black;}#sk-container-id-1 div.sk-estimator:hover label.sk-toggleable__label-arrow:before {color: black;}#sk-container-id-1 div.sk-toggleable__content {max-height: 0;max-width: 0;overflow: hidden;text-align: left;background-color: #f0f8ff;}#sk-container-id-1 div.sk-toggleable__content pre {margin: 0.2em;color: black;border-radius: 0.25em;background-color: #f0f8ff;}#sk-container-id-1 input.sk-toggleable__control:checked~div.sk-toggleable__content {max-height: 200px;max-width: 100%;overflow: auto;}#sk-container-id-1 input.sk-toggleable__control:checked~label.sk-toggleable__label-arrow:before {content: \"▾\";}#sk-container-id-1 div.sk-estimator input.sk-toggleable__control:checked~label.sk-toggleable__label {background-color: #d4ebff;}#sk-container-id-1 div.sk-label input.sk-toggleable__control:checked~label.sk-toggleable__label {background-color: #d4ebff;}#sk-container-id-1 input.sk-hidden--visually {border: 0;clip: rect(1px 1px 1px 1px);clip: rect(1px, 1px, 1px, 1px);height: 1px;margin: -1px;overflow: hidden;padding: 0;position: absolute;width: 1px;}#sk-container-id-1 div.sk-estimator {font-family: monospace;background-color: #f0f8ff;border: 1px dotted black;border-radius: 0.25em;box-sizing: border-box;margin-bottom: 0.5em;}#sk-container-id-1 div.sk-estimator:hover {background-color: #d4ebff;}#sk-container-id-1 div.sk-parallel-item::after {content: \"\";width: 100%;border-bottom: 1px solid gray;flex-grow: 1;}#sk-container-id-1 div.sk-label:hover label.sk-toggleable__label {background-color: #d4ebff;}#sk-container-id-1 div.sk-serial::before {content: \"\";position: absolute;border-left: 1px solid gray;box-sizing: border-box;top: 0;bottom: 0;left: 50%;z-index: 0;}#sk-container-id-1 div.sk-serial {display: flex;flex-direction: column;align-items: center;background-color: white;padding-right: 0.2em;padding-left: 0.2em;position: relative;}#sk-container-id-1 div.sk-item {position: relative;z-index: 1;}#sk-container-id-1 div.sk-parallel {display: flex;align-items: stretch;justify-content: center;background-color: white;position: relative;}#sk-container-id-1 div.sk-item::before, #sk-container-id-1 div.sk-parallel-item::before {content: \"\";position: absolute;border-left: 1px solid gray;box-sizing: border-box;top: 0;bottom: 0;left: 50%;z-index: -1;}#sk-container-id-1 div.sk-parallel-item {display: flex;flex-direction: column;z-index: 1;position: relative;background-color: white;}#sk-container-id-1 div.sk-parallel-item:first-child::after {align-self: flex-end;width: 50%;}#sk-container-id-1 div.sk-parallel-item:last-child::after {align-self: flex-start;width: 50%;}#sk-container-id-1 div.sk-parallel-item:only-child::after {width: 0;}#sk-container-id-1 div.sk-dashed-wrapped {border: 1px dashed gray;margin: 0 0.4em 0.5em 0.4em;box-sizing: border-box;padding-bottom: 0.4em;background-color: white;}#sk-container-id-1 div.sk-label label {font-family: monospace;font-weight: bold;display: inline-block;line-height: 1.2em;}#sk-container-id-1 div.sk-label-container {text-align: center;}#sk-container-id-1 div.sk-container {/* jupyter's `normalize.less` sets `[hidden] { display: none; }` but bootstrap.min.css set `[hidden] { display: none !important; }` so we also need the `!important` here to be able to override the default hidden behavior on the sphinx rendered scikit-learn.org. See: https://github.com/scikit-learn/scikit-learn/issues/21755 */display: inline-block !important;position: relative;}#sk-container-id-1 div.sk-text-repr-fallback {display: none;}</style><div id=\"sk-container-id-1\" class=\"sk-top-container\"><div class=\"sk-text-repr-fallback\"><pre>RandomForestClassifier(class_weight=&#x27;balanced&#x27;, random_state=42)</pre><b>In a Jupyter environment, please rerun this cell to show the HTML representation or trust the notebook. <br />On GitHub, the HTML representation is unable to render, please try loading this page with nbviewer.org.</b></div><div class=\"sk-container\" hidden><div class=\"sk-item\"><div class=\"sk-estimator sk-toggleable\"><input class=\"sk-toggleable__control sk-hidden--visually\" id=\"sk-estimator-id-1\" type=\"checkbox\" checked><label for=\"sk-estimator-id-1\" class=\"sk-toggleable__label sk-toggleable__label-arrow\">RandomForestClassifier</label><div class=\"sk-toggleable__content\"><pre>RandomForestClassifier(class_weight=&#x27;balanced&#x27;, random_state=42)</pre></div></div></div></div></div>"
      ],
      "text/plain": [
       "RandomForestClassifier(class_weight='balanced', random_state=42)"
      ]
     },
     "execution_count": 4,
     "metadata": {},
     "output_type": "execute_result"
    }
   ],
   "source": [
    "from sklearn.ensemble import RandomForestClassifier\n",
    "from sklearn.metrics import classification_report, roc_auc_score, accuracy_score, precision_score, recall_score\n",
    "\n",
    "\n",
    "rf_model = RandomForestClassifier(n_estimators=100, random_state=42, class_weight='balanced')\n",
    "\n",
    "\n",
    "rf_model.fit(X_train, y_train)\n"
   ]
  },
  {
   "cell_type": "code",
   "execution_count": 5,
   "metadata": {},
   "outputs": [
    {
     "name": "stdout",
     "output_type": "stream",
     "text": [
      "Classification Report (in %):\n",
      "              precision     recall   f1-score       support\n",
      "0             99.976491  99.997387  99.986938  76552.000000\n",
      "1             99.967165  99.705256  99.836039   6107.000000\n",
      "accuracy      99.975804  99.975804  99.975804      0.999758\n",
      "macro avg     99.971828  99.851322  99.911489  82659.000000\n",
      "weighted avg  99.975802  99.975804  99.975790  82659.000000\n",
      "Accuracy: 99.98%\n",
      "Precision: 99.97%\n",
      "Recall: 99.71%\n",
      "ROC-AUC Score: 99.91%\n"
     ]
    }
   ],
   "source": [
    "\n",
    "from sklearn.metrics import accuracy_score, precision_score, recall_score, classification_report, roc_auc_score\n",
    "\n",
    "\n",
    "y_pred = rf_model.predict(X_test)\n",
    "y_prob = rf_model.predict_proba(X_test)[:, 1]\n",
    "\n",
    "\n",
    "report = classification_report(y_test, y_pred, output_dict=True)\n",
    "report_df = pd.DataFrame(report).transpose()\n",
    "report_df[['precision', 'recall', 'f1-score']] *= 100  \n",
    "\n",
    "print(\"Classification Report (in %):\")\n",
    "print(report_df)\n",
    "\n",
    "\n",
    "accuracy = accuracy_score(y_test, y_pred) * 100\n",
    "precision = precision_score(y_test, y_pred) * 100\n",
    "recall = recall_score(y_test, y_pred) * 100\n",
    "\n",
    "print(f'Accuracy: {accuracy:.2f}%')\n",
    "print(f'Precision: {precision:.2f}%')\n",
    "print(f'Recall: {recall:.2f}%')\n",
    "\n",
    "\n",
    "if len(set(y_test)) > 1:\n",
    "    roc_auc = roc_auc_score(y_test, y_prob) * 100  \n",
    "    print(f'ROC-AUC Score: {roc_auc:.2f}%')\n",
    "else:\n",
    "    print('ROC-AUC Score is not defined due to only one class present in y_test.')\n",
    "\n"
   ]
  },
  {
   "cell_type": "code",
   "execution_count": 7,
   "metadata": {},
   "outputs": [],
   "source": [
    "import pickle\n",
    "\n",
    "with open('trained_model.pkl', 'wb') as file:\n",
    "    pickle.dump(rf_model, file)"
   ]
  }
 ],
 "metadata": {
  "kernelspec": {
   "display_name": "base",
   "language": "python",
   "name": "python3"
  },
  "language_info": {
   "codemirror_mode": {
    "name": "ipython",
    "version": 3
   },
   "file_extension": ".py",
   "mimetype": "text/x-python",
   "name": "python",
   "nbconvert_exporter": "python",
   "pygments_lexer": "ipython3",
   "version": "3.11.7"
  }
 },
 "nbformat": 4,
 "nbformat_minor": 2
}
